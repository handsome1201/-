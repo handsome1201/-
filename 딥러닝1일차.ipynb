{
  "nbformat": 4,
  "nbformat_minor": 0,
  "metadata": {
    "colab": {
      "provenance": [],
      "mount_file_id": "1d-Db9hqwaLU4imEAmEaNASgcqfotVxfc",
      "authorship_tag": "ABX9TyNQkNMrRTSxOIT5wJ2Pifb9",
      "include_colab_link": true
    },
    "kernelspec": {
      "name": "python3",
      "display_name": "Python 3"
    },
    "language_info": {
      "name": "python"
    }
  },
  "cells": [
    {
      "cell_type": "markdown",
      "metadata": {
        "id": "view-in-github",
        "colab_type": "text"
      },
      "source": [
        "<a href=\"https://colab.research.google.com/github/handsome1201/Deep_learning/blob/main/%EB%94%A5%EB%9F%AC%EB%8B%9D1%EC%9D%BC%EC%B0%A8.ipynb\" target=\"_parent\"><img src=\"https://colab.research.google.com/assets/colab-badge.svg\" alt=\"Open In Colab\"/></a>"
      ]
    },
    {
      "cell_type": "code",
      "execution_count": 4,
      "metadata": {
        "id": "PUFJ7Owb14Cf"
      },
      "outputs": [],
      "source": [
        "from keras.models import Sequential\n",
        "from keras.layers import Dense\n"
      ]
    },
    {
      "cell_type": "code",
      "source": [
        "import numpy\n",
        "import tensorflow as tf"
      ],
      "metadata": {
        "id": "bx2j7TwBUjbt"
      },
      "execution_count": 7,
      "outputs": []
    },
    {
      "cell_type": "code",
      "source": [
        "seed = 0\n",
        "numpy.random.seed(seed)\n",
        "tf.random.set_seed(seed)"
      ],
      "metadata": {
        "id": "eTnBkczZUmaW"
      },
      "execution_count": 11,
      "outputs": []
    },
    {
      "cell_type": "code",
      "source": [
        "Data_set = numpy.loadtxt(\"/content/drive/MyDrive/모두의 딥러닝/006958-master/deeplearning/dataset/ThoraricSurgery.csv\", delimiter=\",\")\n"
      ],
      "metadata": {
        "id": "E08seds0Z75B"
      },
      "execution_count": 13,
      "outputs": []
    },
    {
      "cell_type": "code",
      "source": [
        "X = Data_set[:,0:17]\n",
        "Y = Data_set[:,17]"
      ],
      "metadata": {
        "id": "dK0JzVMmaRLP"
      },
      "execution_count": 14,
      "outputs": []
    },
    {
      "cell_type": "code",
      "source": [
        "model = Sequential()\n",
        "model.add(Dense(30, input_dim=17, activation='relu'))\n",
        "model.add(Dense(1, activation='sigmoid'))"
      ],
      "metadata": {
        "id": "rLlq-YYJaV5_"
      },
      "execution_count": 15,
      "outputs": []
    },
    {
      "cell_type": "code",
      "source": [
        "model.compile(loss='mean_squared_error', optimizer='adam', metrics=['accuracy'])\n",
        "model.fit(X, Y, epochs=30, batch_size=10)"
      ],
      "metadata": {
        "colab": {
          "base_uri": "https://localhost:8080/"
        },
        "id": "QGmI_T0faYtW",
        "outputId": "1338fce9-734d-4e30-aac6-639bfb69a1ef"
      },
      "execution_count": 16,
      "outputs": [
        {
          "output_type": "stream",
          "name": "stdout",
          "text": [
            "Epoch 1/30\n",
            "47/47 [==============================] - 1s 1ms/step - loss: 0.4078 - accuracy: 0.5702\n",
            "Epoch 2/30\n",
            "47/47 [==============================] - 0s 1ms/step - loss: 0.1488 - accuracy: 0.8511\n",
            "Epoch 3/30\n",
            "47/47 [==============================] - 0s 1ms/step - loss: 0.1488 - accuracy: 0.8511\n",
            "Epoch 4/30\n",
            "47/47 [==============================] - 0s 1ms/step - loss: 0.1488 - accuracy: 0.8511\n",
            "Epoch 5/30\n",
            "47/47 [==============================] - 0s 1ms/step - loss: 0.1488 - accuracy: 0.8511\n",
            "Epoch 6/30\n",
            "47/47 [==============================] - 0s 1ms/step - loss: 0.1487 - accuracy: 0.8511\n",
            "Epoch 7/30\n",
            "47/47 [==============================] - 0s 1ms/step - loss: 0.1487 - accuracy: 0.8511\n",
            "Epoch 8/30\n",
            "47/47 [==============================] - 0s 1ms/step - loss: 0.1485 - accuracy: 0.8511\n",
            "Epoch 9/30\n",
            "47/47 [==============================] - 0s 1ms/step - loss: 0.1482 - accuracy: 0.8511\n",
            "Epoch 10/30\n",
            "47/47 [==============================] - 0s 1ms/step - loss: 0.1471 - accuracy: 0.8511\n",
            "Epoch 11/30\n",
            "47/47 [==============================] - 0s 1ms/step - loss: 0.1480 - accuracy: 0.8511\n",
            "Epoch 12/30\n",
            "47/47 [==============================] - 0s 2ms/step - loss: 0.1469 - accuracy: 0.8511\n",
            "Epoch 13/30\n",
            "47/47 [==============================] - 0s 1ms/step - loss: 0.1479 - accuracy: 0.8511\n",
            "Epoch 14/30\n",
            "47/47 [==============================] - 0s 1ms/step - loss: 0.1464 - accuracy: 0.8489\n",
            "Epoch 15/30\n",
            "47/47 [==============================] - 0s 2ms/step - loss: 0.1455 - accuracy: 0.8511\n",
            "Epoch 16/30\n",
            "47/47 [==============================] - 0s 1ms/step - loss: 0.1470 - accuracy: 0.8489\n",
            "Epoch 17/30\n",
            "47/47 [==============================] - 0s 2ms/step - loss: 0.1458 - accuracy: 0.8532\n",
            "Epoch 18/30\n",
            "47/47 [==============================] - 0s 1ms/step - loss: 0.1449 - accuracy: 0.8532\n",
            "Epoch 19/30\n",
            "47/47 [==============================] - 0s 1ms/step - loss: 0.1463 - accuracy: 0.8489\n",
            "Epoch 20/30\n",
            "47/47 [==============================] - 0s 1ms/step - loss: 0.1454 - accuracy: 0.8511\n",
            "Epoch 21/30\n",
            "47/47 [==============================] - 0s 1ms/step - loss: 0.1442 - accuracy: 0.8532\n",
            "Epoch 22/30\n",
            "47/47 [==============================] - 0s 1ms/step - loss: 0.1434 - accuracy: 0.8532\n",
            "Epoch 23/30\n",
            "47/47 [==============================] - 0s 1ms/step - loss: 0.1448 - accuracy: 0.8511\n",
            "Epoch 24/30\n",
            "47/47 [==============================] - 0s 993us/step - loss: 0.1443 - accuracy: 0.8532\n",
            "Epoch 25/30\n",
            "47/47 [==============================] - 0s 1ms/step - loss: 0.1427 - accuracy: 0.8553\n",
            "Epoch 26/30\n",
            "47/47 [==============================] - 0s 2ms/step - loss: 0.1447 - accuracy: 0.8553\n",
            "Epoch 27/30\n",
            "47/47 [==============================] - 0s 1ms/step - loss: 0.1443 - accuracy: 0.8532\n",
            "Epoch 28/30\n",
            "47/47 [==============================] - 0s 1ms/step - loss: 0.1427 - accuracy: 0.8532\n",
            "Epoch 29/30\n",
            "47/47 [==============================] - 0s 1ms/step - loss: 0.1409 - accuracy: 0.8574\n",
            "Epoch 30/30\n",
            "47/47 [==============================] - 0s 1ms/step - loss: 0.1429 - accuracy: 0.8553\n"
          ]
        },
        {
          "output_type": "execute_result",
          "data": {
            "text/plain": [
              "<keras.callbacks.History at 0x7fd859aaf3a0>"
            ]
          },
          "metadata": {},
          "execution_count": 16
        }
      ]
    },
    {
      "cell_type": "code",
      "source": [
        "# 결과를 출력합니다.\n",
        "print(\"\\n Accuracy: %.4f\" % (model.evaluate(X, Y)[1]))"
      ],
      "metadata": {
        "colab": {
          "base_uri": "https://localhost:8080/"
        },
        "id": "1CafLRbQaaJh",
        "outputId": "80d5ad9d-b762-4776-fb62-f0cbb70b5544"
      },
      "execution_count": 18,
      "outputs": [
        {
          "output_type": "stream",
          "name": "stdout",
          "text": [
            "15/15 [==============================] - 0s 1ms/step - loss: 0.1416 - accuracy: 0.8532\n",
            "\n",
            " Accuracy: 0.8532\n"
          ]
        }
      ]
    },
    {
      "cell_type": "code",
      "source": [],
      "metadata": {
        "id": "TDQ9Dqggad9s"
      },
      "execution_count": null,
      "outputs": []
    }
  ]
}